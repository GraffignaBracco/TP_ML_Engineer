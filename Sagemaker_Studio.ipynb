{
 "cells": [
  {
   "cell_type": "markdown",
   "metadata": {},
   "source": [
    "# Training"
   ]
  },
  {
   "cell_type": "code",
   "execution_count": 11,
   "metadata": {},
   "outputs": [
    {
     "name": "stdout",
     "output_type": "stream",
     "text": [
      "Training input/output will be stored in: s3://sagemaker-us-east-2-704413948526/tpmlengineer\n",
      "Downloaded training data will be read from s3://tpmlengineer/test\n"
     ]
    }
   ],
   "source": [
    "import boto3\n",
    "import botocore\n",
    "import sagemaker\n",
    "import sys\n",
    "\n",
    "\n",
    "bucket = (\n",
    "    sagemaker.Session().default_bucket()\n",
    ")  # Feel free to change to another bucket you have access to\n",
    "prefix = \"tpmlengineer\"\n",
    "execution_role = sagemaker.get_execution_role()\n",
    "region = boto3.Session().region_name\n",
    "\n",
    "# S3 bucket where the original data is downloaded and stored.\n",
    "downloaded_data_bucket = f\"tpmlengineer\"\n",
    "downloaded_data_prefix = \"test\"\n",
    "\n",
    "\n",
    "def check_bucket_permission(bucket):\n",
    "    # check if the bucket exists\n",
    "    permission = False\n",
    "    try:\n",
    "        boto3.Session().client(\"s3\").head_bucket(Bucket=bucket)\n",
    "    except botocore.exceptions.ParamValidationError as e:\n",
    "        print(\n",
    "            \"Hey! You either forgot to specify your S3 bucket\"\n",
    "            \" or you gave your bucket an invalid name!\"\n",
    "        )\n",
    "    except botocore.exceptions.ClientError as e:\n",
    "        if e.response[\"Error\"][\"Code\"] == \"403\":\n",
    "            print(f\"Hey! You don't have permission to access the bucket, {bucket}.\")\n",
    "        elif e.response[\"Error\"][\"Code\"] == \"404\":\n",
    "            print(f\"Hey! Your bucket, {bucket}, doesn't exist!\")\n",
    "        else:\n",
    "            raise\n",
    "    else:\n",
    "        permission = True\n",
    "    return permission\n",
    "\n",
    "\n",
    "if check_bucket_permission(bucket):\n",
    "    print(f\"Training input/output will be stored in: s3://{bucket}/{prefix}\")\n",
    "if check_bucket_permission(downloaded_data_bucket):\n",
    "    print(\n",
    "        f\"Downloaded training data will be read from s3://{downloaded_data_bucket}/{downloaded_data_prefix}\"\n",
    "    )\n"
   ]
  },
  {
   "cell_type": "code",
   "execution_count": 12,
   "metadata": {},
   "outputs": [],
   "source": [
    "import pandas as pd\n",
    "\n",
    "data_filename = \"X.csv\"\n",
    "s3 = boto3.client(\"s3\")\n",
    "s3.download_file(downloaded_data_bucket, f\"{downloaded_data_prefix}/{data_filename}\", data_filename)\n",
    "df = pd.read_csv(data_filename, delimiter=\",\")"
   ]
  },
  {
   "cell_type": "code",
   "execution_count": 13,
   "metadata": {},
   "outputs": [
    {
     "data": {
      "text/plain": [
       "array([ -2.,  -1.,  -1., ...,   0.,  -5., -10.])"
      ]
     },
     "execution_count": 13,
     "metadata": {},
     "output_type": "execute_result"
    }
   ],
   "source": [
    "df.DEP_DELAY.to_numpy()"
   ]
  },
  {
   "cell_type": "code",
   "execution_count": 14,
   "metadata": {},
   "outputs": [
    {
     "name": "stderr",
     "output_type": "stream",
     "text": [
      "Defaulting to the only supported framework/algorithm version: 1. Ignoring framework/algorithm version: 1.\n",
      "Defaulting to the only supported framework/algorithm version: 1. Ignoring framework/algorithm version: 1.\n"
     ]
    },
    {
     "name": "stdout",
     "output_type": "stream",
     "text": [
      "2022-04-01 17:05:49 Starting - Starting the training job...\n",
      "2022-04-01 17:06:14 Starting - Preparing the instances for trainingProfilerReport-1648832749: InProgress\n",
      ".........\n",
      "2022-04-01 17:07:35 Downloading - Downloading input data...\n",
      "2022-04-01 17:08:13 Training - Downloading the training image.....\u001b[34mDocker entrypoint called with argument(s): train\u001b[0m\n",
      "\u001b[34mRunning default environment configuration script\u001b[0m\n",
      "\u001b[34m[04/01/2022 17:09:03 INFO 140207764698944 integration.py:636] worker started\u001b[0m\n",
      "\u001b[34m[04/01/2022 17:09:03 INFO 140207764698944] Reading default configuration from /opt/amazon/lib/python3.7/site-packages/algorithm/resources/default-conf.json: {'num_samples_per_tree': 256, 'num_trees': 100, 'force_dense': 'true', 'eval_metrics': ['accuracy', 'precision_recall_fscore'], 'epochs': 1, 'mini_batch_size': 1000, '_log_level': 'info', '_kvstore': 'dist_async', '_num_kv_servers': 'auto', '_num_gpus': 'auto', '_tuning_objective_metric': '', '_ftp_port': 8999}\u001b[0m\n",
      "\u001b[34m[04/01/2022 17:09:03 INFO 140207764698944] Merging with provided configuration from /opt/ml/input/config/hyperparameters.json: {'feature_dim': '1', 'mini_batch_size': '1000', 'num_samples_per_tree': '512', 'num_trees': '50'}\u001b[0m\n",
      "\u001b[34m[04/01/2022 17:09:03 INFO 140207764698944] Final configuration: {'num_samples_per_tree': '512', 'num_trees': '50', 'force_dense': 'true', 'eval_metrics': ['accuracy', 'precision_recall_fscore'], 'epochs': 1, 'mini_batch_size': '1000', '_log_level': 'info', '_kvstore': 'dist_async', '_num_kv_servers': 'auto', '_num_gpus': 'auto', '_tuning_objective_metric': '', '_ftp_port': 8999, 'feature_dim': '1'}\u001b[0m\n",
      "\u001b[34m[04/01/2022 17:09:03 WARNING 140207764698944] Loggers have already been setup.\u001b[0m\n",
      "\u001b[34m[04/01/2022 17:09:03 INFO 140207764698944] Launching parameter server for role scheduler\u001b[0m\n",
      "\u001b[34m[04/01/2022 17:09:03 INFO 140207764698944] {'ENVROOT': '/opt/amazon', 'PROTOCOL_BUFFERS_PYTHON_IMPLEMENTATION': 'cpp', 'HOSTNAME': 'ip-10-0-197-113.us-east-2.compute.internal', 'TRAINING_JOB_NAME': 'randomcutforest-2022-04-01-17-05-49-136', 'NVIDIA_REQUIRE_CUDA': 'cuda>=9.0', 'TRAINING_JOB_ARN': 'arn:aws:sagemaker:us-east-2:704413948526:training-job/randomcutforest-2022-04-01-17-05-49-136', 'AWS_CONTAINER_CREDENTIALS_RELATIVE_URI': '/v2/credentials/proxy-bcf17753674f8d3d8045b8502f042fa06f7baa5cc1f319fbf1784b58f3cf6296-customer', 'CANONICAL_ENVROOT': '/opt/amazon', 'PYTHONUNBUFFERED': 'TRUE', 'NVIDIA_VISIBLE_DEVICES': 'all', 'LD_LIBRARY_PATH': '/opt/amazon/lib/python3.7/site-packages/cv2/../../../../lib:/usr/local/nvidia/lib64:/opt/amazon/lib', 'MXNET_KVSTORE_BIGARRAY_BOUND': '400000000', 'NVIDIA_DRIVER_CAPABILITIES': 'compute,utility', 'PATH': '/opt/amazon/bin:/usr/local/nvidia/bin:/usr/local/sbin:/usr/local/bin:/usr/sbin:/usr/bin:/sbin:/bin:/opt/amazon/bin:/opt/amazon/bin', 'PWD': '/', 'LANG': 'en_US.utf8', 'AWS_REGION': 'us-east-2', 'SAGEMAKER_METRICS_DIRECTORY': '/opt/ml/output/metrics/sagemaker', 'HOME': '/root', 'SHLVL': '1', 'PROTOCOL_BUFFERS_PYTHON_IMPLEMENTATION_VERSION': '2', 'OMP_NUM_THREADS': '2', 'DMLC_INTERFACE': 'eth0', 'SAGEMAKER_HTTP_PORT': '8080', 'SAGEMAKER_DATA_PATH': '/opt/ml', 'KMP_DUPLICATE_LIB_OK': 'True', 'KMP_INIT_AT_FORK': 'FALSE'}\u001b[0m\n",
      "\u001b[34m[04/01/2022 17:09:03 INFO 140207764698944] envs={'ENVROOT': '/opt/amazon', 'PROTOCOL_BUFFERS_PYTHON_IMPLEMENTATION': 'cpp', 'HOSTNAME': 'ip-10-0-197-113.us-east-2.compute.internal', 'TRAINING_JOB_NAME': 'randomcutforest-2022-04-01-17-05-49-136', 'NVIDIA_REQUIRE_CUDA': 'cuda>=9.0', 'TRAINING_JOB_ARN': 'arn:aws:sagemaker:us-east-2:704413948526:training-job/randomcutforest-2022-04-01-17-05-49-136', 'AWS_CONTAINER_CREDENTIALS_RELATIVE_URI': '/v2/credentials/proxy-bcf17753674f8d3d8045b8502f042fa06f7baa5cc1f319fbf1784b58f3cf6296-customer', 'CANONICAL_ENVROOT': '/opt/amazon', 'PYTHONUNBUFFERED': 'TRUE', 'NVIDIA_VISIBLE_DEVICES': 'all', 'LD_LIBRARY_PATH': '/opt/amazon/lib/python3.7/site-packages/cv2/../../../../lib:/usr/local/nvidia/lib64:/opt/amazon/lib', 'MXNET_KVSTORE_BIGARRAY_BOUND': '400000000', 'NVIDIA_DRIVER_CAPABILITIES': 'compute,utility', 'PATH': '/opt/amazon/bin:/usr/local/nvidia/bin:/usr/local/sbin:/usr/local/bin:/usr/sbin:/usr/bin:/sbin:/bin:/opt/amazon/bin:/opt/amazon/bin', 'PWD': '/', 'LANG': 'en_US.utf8', 'AWS_REGION': 'us-east-2', 'SAGEMAKER_METRICS_DIRECTORY': '/opt/ml/output/metrics/sagemaker', 'HOME': '/root', 'SHLVL': '1', 'PROTOCOL_BUFFERS_PYTHON_IMPLEMENTATION_VERSION': '2', 'OMP_NUM_THREADS': '2', 'DMLC_INTERFACE': 'eth0', 'SAGEMAKER_HTTP_PORT': '8080', 'SAGEMAKER_DATA_PATH': '/opt/ml', 'KMP_DUPLICATE_LIB_OK': 'True', 'KMP_INIT_AT_FORK': 'FALSE', 'DMLC_ROLE': 'scheduler', 'DMLC_PS_ROOT_URI': '10.0.197.113', 'DMLC_PS_ROOT_PORT': '9000', 'DMLC_NUM_SERVER': '1', 'DMLC_NUM_WORKER': '1'}\u001b[0m\n",
      "\u001b[34m[04/01/2022 17:09:03 INFO 140207764698944] Launching parameter server for role server\u001b[0m\n",
      "\u001b[34m[04/01/2022 17:09:03 INFO 140207764698944] {'ENVROOT': '/opt/amazon', 'PROTOCOL_BUFFERS_PYTHON_IMPLEMENTATION': 'cpp', 'HOSTNAME': 'ip-10-0-197-113.us-east-2.compute.internal', 'TRAINING_JOB_NAME': 'randomcutforest-2022-04-01-17-05-49-136', 'NVIDIA_REQUIRE_CUDA': 'cuda>=9.0', 'TRAINING_JOB_ARN': 'arn:aws:sagemaker:us-east-2:704413948526:training-job/randomcutforest-2022-04-01-17-05-49-136', 'AWS_CONTAINER_CREDENTIALS_RELATIVE_URI': '/v2/credentials/proxy-bcf17753674f8d3d8045b8502f042fa06f7baa5cc1f319fbf1784b58f3cf6296-customer', 'CANONICAL_ENVROOT': '/opt/amazon', 'PYTHONUNBUFFERED': 'TRUE', 'NVIDIA_VISIBLE_DEVICES': 'all', 'LD_LIBRARY_PATH': '/opt/amazon/lib/python3.7/site-packages/cv2/../../../../lib:/usr/local/nvidia/lib64:/opt/amazon/lib', 'MXNET_KVSTORE_BIGARRAY_BOUND': '400000000', 'NVIDIA_DRIVER_CAPABILITIES': 'compute,utility', 'PATH': '/opt/amazon/bin:/usr/local/nvidia/bin:/usr/local/sbin:/usr/local/bin:/usr/sbin:/usr/bin:/sbin:/bin:/opt/amazon/bin:/opt/amazon/bin', 'PWD': '/', 'LANG': 'en_US.utf8', 'AWS_REGION': 'us-east-2', 'SAGEMAKER_METRICS_DIRECTORY': '/opt/ml/output/metrics/sagemaker', 'HOME': '/root', 'SHLVL': '1', 'PROTOCOL_BUFFERS_PYTHON_IMPLEMENTATION_VERSION': '2', 'OMP_NUM_THREADS': '2', 'DMLC_INTERFACE': 'eth0', 'SAGEMAKER_HTTP_PORT': '8080', 'SAGEMAKER_DATA_PATH': '/opt/ml', 'KMP_DUPLICATE_LIB_OK': 'True', 'KMP_INIT_AT_FORK': 'FALSE'}\u001b[0m\n",
      "\u001b[34m[04/01/2022 17:09:03 INFO 140207764698944] envs={'ENVROOT': '/opt/amazon', 'PROTOCOL_BUFFERS_PYTHON_IMPLEMENTATION': 'cpp', 'HOSTNAME': 'ip-10-0-197-113.us-east-2.compute.internal', 'TRAINING_JOB_NAME': 'randomcutforest-2022-04-01-17-05-49-136', 'NVIDIA_REQUIRE_CUDA': 'cuda>=9.0', 'TRAINING_JOB_ARN': 'arn:aws:sagemaker:us-east-2:704413948526:training-job/randomcutforest-2022-04-01-17-05-49-136', 'AWS_CONTAINER_CREDENTIALS_RELATIVE_URI': '/v2/credentials/proxy-bcf17753674f8d3d8045b8502f042fa06f7baa5cc1f319fbf1784b58f3cf6296-customer', 'CANONICAL_ENVROOT': '/opt/amazon', 'PYTHONUNBUFFERED': 'TRUE', 'NVIDIA_VISIBLE_DEVICES': 'all', 'LD_LIBRARY_PATH': '/opt/amazon/lib/python3.7/site-packages/cv2/../../../../lib:/usr/local/nvidia/lib64:/opt/amazon/lib', 'MXNET_KVSTORE_BIGARRAY_BOUND': '400000000', 'NVIDIA_DRIVER_CAPABILITIES': 'compute,utility', 'PATH': '/opt/amazon/bin:/usr/local/nvidia/bin:/usr/local/sbin:/usr/local/bin:/usr/sbin:/usr/bin:/sbin:/bin:/opt/amazon/bin:/opt/amazon/bin', 'PWD': '/', 'LANG': 'en_US.utf8', 'AWS_REGION': 'us-east-2', 'SAGEMAKER_METRICS_DIRECTORY': '/opt/ml/output/metrics/sagemaker', 'HOME': '/root', 'SHLVL': '1', 'PROTOCOL_BUFFERS_PYTHON_IMPLEMENTATION_VERSION': '2', 'OMP_NUM_THREADS': '2', 'DMLC_INTERFACE': 'eth0', 'SAGEMAKER_HTTP_PORT': '8080', 'SAGEMAKER_DATA_PATH': '/opt/ml', 'KMP_DUPLICATE_LIB_OK': 'True', 'KMP_INIT_AT_FORK': 'FALSE', 'DMLC_ROLE': 'server', 'DMLC_PS_ROOT_URI': '10.0.197.113', 'DMLC_PS_ROOT_PORT': '9000', 'DMLC_NUM_SERVER': '1', 'DMLC_NUM_WORKER': '1'}\u001b[0m\n",
      "\u001b[34m[04/01/2022 17:09:03 INFO 140207764698944] Environment: {'ENVROOT': '/opt/amazon', 'PROTOCOL_BUFFERS_PYTHON_IMPLEMENTATION': 'cpp', 'HOSTNAME': 'ip-10-0-197-113.us-east-2.compute.internal', 'TRAINING_JOB_NAME': 'randomcutforest-2022-04-01-17-05-49-136', 'NVIDIA_REQUIRE_CUDA': 'cuda>=9.0', 'TRAINING_JOB_ARN': 'arn:aws:sagemaker:us-east-2:704413948526:training-job/randomcutforest-2022-04-01-17-05-49-136', 'AWS_CONTAINER_CREDENTIALS_RELATIVE_URI': '/v2/credentials/proxy-bcf17753674f8d3d8045b8502f042fa06f7baa5cc1f319fbf1784b58f3cf6296-customer', 'CANONICAL_ENVROOT': '/opt/amazon', 'PYTHONUNBUFFERED': 'TRUE', 'NVIDIA_VISIBLE_DEVICES': 'all', 'LD_LIBRARY_PATH': '/opt/amazon/lib/python3.7/site-packages/cv2/../../../../lib:/usr/local/nvidia/lib64:/opt/amazon/lib', 'MXNET_KVSTORE_BIGARRAY_BOUND': '400000000', 'NVIDIA_DRIVER_CAPABILITIES': 'compute,utility', 'PATH': '/opt/amazon/bin:/usr/local/nvidia/bin:/usr/local/sbin:/usr/local/bin:/usr/sbin:/usr/bin:/sbin:/bin:/opt/amazon/bin:/opt/amazon/bin', 'PWD': '/', 'LANG': 'en_US.utf8', 'AWS_REGION': 'us-east-2', 'SAGEMAKER_METRICS_DIRECTORY': '/opt/ml/output/metrics/sagemaker', 'HOME': '/root', 'SHLVL': '1', 'PROTOCOL_BUFFERS_PYTHON_IMPLEMENTATION_VERSION': '2', 'OMP_NUM_THREADS': '2', 'DMLC_INTERFACE': 'eth0', 'SAGEMAKER_HTTP_PORT': '8080', 'SAGEMAKER_DATA_PATH': '/opt/ml', 'KMP_DUPLICATE_LIB_OK': 'True', 'KMP_INIT_AT_FORK': 'FALSE', 'DMLC_ROLE': 'worker', 'DMLC_PS_ROOT_URI': '10.0.197.113', 'DMLC_PS_ROOT_PORT': '9000', 'DMLC_NUM_SERVER': '1', 'DMLC_NUM_WORKER': '1'}\u001b[0m\n",
      "\u001b[34mProcess 35 is a shell:scheduler.\u001b[0m\n",
      "\u001b[34mProcess 44 is a shell:server.\u001b[0m\n",
      "\u001b[34mProcess 1 is a worker.\u001b[0m\n",
      "\u001b[34m[04/01/2022 17:09:03 INFO 140207764698944] Using default worker.\u001b[0m\n",
      "\u001b[34m[04/01/2022 17:09:03 INFO 140207764698944] Loaded iterator creator application/x-recordio-protobuf for content type ('application/x-recordio-protobuf', '1.0')\u001b[0m\n",
      "\u001b[34m[04/01/2022 17:09:03 INFO 140207764698944] Checkpoint loading and saving are disabled.\u001b[0m\n",
      "\u001b[34m[04/01/2022 17:09:03 INFO 140207764698944] Verifying hyperparamemters...\u001b[0m\n",
      "\u001b[34m[04/01/2022 17:09:03 INFO 140207764698944] Hyperparameters are correct.\u001b[0m\n",
      "\u001b[34m[04/01/2022 17:09:03 INFO 140207764698944] Validating that feature_dim agrees with dimensions in training data...\u001b[0m\n",
      "\u001b[34m[04/01/2022 17:09:03 INFO 140207764698944] feature_dim is correct.\u001b[0m\n",
      "\u001b[34m[04/01/2022 17:09:03 INFO 140207764698944] Validating memory limits...\u001b[0m\n",
      "\u001b[34m[04/01/2022 17:09:03 INFO 140207764698944] Available memory in bytes: 15252721664\u001b[0m\n",
      "\u001b[34m[04/01/2022 17:09:03 INFO 140207764698944] Estimated sample size in bytes: 409600\u001b[0m\n",
      "\u001b[34m[04/01/2022 17:09:03 INFO 140207764698944] Estimated memory needed to build the forest in bytes: 1024000\u001b[0m\n",
      "\u001b[34m[04/01/2022 17:09:03 INFO 140207764698944] Memory limits validated.\u001b[0m\n",
      "\u001b[34m[04/01/2022 17:09:03 INFO 140207764698944] Starting cluster sharing facilities...\u001b[0m\n",
      "\u001b[34m[04/01/2022 17:09:03 INFO 140206246192896] concurrency model: async\u001b[0m\n",
      "\u001b[34m[04/01/2022 17:09:03 INFO 140207764698944] Create Store: dist_async\u001b[0m\n",
      "\u001b[34m[04/01/2022 17:09:03 INFO 140206246192896] masquerade (NAT) address: None\u001b[0m\n",
      "\u001b[34m[04/01/2022 17:09:03 INFO 140206246192896] passive ports: None\u001b[0m\n",
      "\u001b[34m[04/01/2022 17:09:03 INFO 140206246192896] >>> starting FTP server on 0.0.0.0:8999, pid=1 <<<\u001b[0m\n",
      "\u001b[34m[04/01/2022 17:09:05 INFO 140207764698944] Cluster sharing facilities started.\u001b[0m\n",
      "\u001b[34m[04/01/2022 17:09:05 INFO 140207764698944] Verifying all workers are accessible...\u001b[0m\n",
      "\u001b[34m[04/01/2022 17:09:05 INFO 140207764698944] All workers accessible.\u001b[0m\n",
      "\u001b[34m[04/01/2022 17:09:05 INFO 140207764698944] Initializing Sampler...\u001b[0m\n",
      "\u001b[34m[04/01/2022 17:09:05 INFO 140207764698944] Sampler correctly initialized.\u001b[0m\n",
      "\u001b[34m#metrics {\"StartTime\": 1648832943.8998024, \"EndTime\": 1648832945.642058, \"Dimensions\": {\"Algorithm\": \"RandomCutForest\", \"Host\": \"algo-1\", \"Operation\": \"training\"}, \"Metrics\": {\"initialize.time\": {\"sum\": 1708.5835933685303, \"count\": 1, \"min\": 1708.5835933685303, \"max\": 1708.5835933685303}}}\u001b[0m\n",
      "\u001b[34m#metrics {\"StartTime\": 1648832945.6422408, \"EndTime\": 1648832945.6422951, \"Dimensions\": {\"Algorithm\": \"RandomCutForest\", \"Host\": \"algo-1\", \"Operation\": \"training\", \"Meta\": \"init_train_data_iter\"}, \"Metrics\": {\"Total Records Seen\": {\"sum\": 0.0, \"count\": 1, \"min\": 0, \"max\": 0}, \"Total Batches Seen\": {\"sum\": 0.0, \"count\": 1, \"min\": 0, \"max\": 0}, \"Max Records Seen Between Resets\": {\"sum\": 0.0, \"count\": 1, \"min\": 0, \"max\": 0}, \"Max Batches Seen Between Resets\": {\"sum\": 0.0, \"count\": 1, \"min\": 0, \"max\": 0}, \"Reset Count\": {\"sum\": 0.0, \"count\": 1, \"min\": 0, \"max\": 0}, \"Number of Records Since Last Reset\": {\"sum\": 0.0, \"count\": 1, \"min\": 0, \"max\": 0}, \"Number of Batches Since Last Reset\": {\"sum\": 0.0, \"count\": 1, \"min\": 0, \"max\": 0}}}\u001b[0m\n",
      "\u001b[34m[2022-04-01 17:09:05.646] [tensorio] [info] epoch_stats={\"data_pipeline\": \"/opt/ml/input/data/train\", \"epoch\": 0, \"duration\": 1746, \"num_examples\": 1, \"num_bytes\": 32000}\u001b[0m\n",
      "\u001b[34m[04/01/2022 17:09:05 INFO 140207764698944] Sampling training data...\u001b[0m\n",
      "\n",
      "2022-04-01 17:09:13 Training - Training image download completed. Training in progress.\u001b[34m[2022-04-01 17:09:14.996] [tensorio] [info] epoch_stats={\"data_pipeline\": \"/opt/ml/input/data/train\", \"epoch\": 1, \"duration\": 9349, \"num_examples\": 6347, \"num_bytes\": 203087072}\u001b[0m\n",
      "\u001b[34m[04/01/2022 17:09:15 INFO 140207764698944] Sampling training data completed.\u001b[0m\n",
      "\u001b[34m#metrics {\"StartTime\": 1648832945.6421769, \"EndTime\": 1648832955.0052013, \"Dimensions\": {\"Algorithm\": \"RandomCutForest\", \"Host\": \"algo-1\", \"Operation\": \"training\"}, \"Metrics\": {\"epochs\": {\"sum\": 1.0, \"count\": 1, \"min\": 1, \"max\": 1}, \"update.time\": {\"sum\": 9358.2284450531, \"count\": 1, \"min\": 9358.2284450531, \"max\": 9358.2284450531}}}\u001b[0m\n",
      "\u001b[34m[04/01/2022 17:09:15 INFO 140207764698944] Early stop condition met. Stopping training.\u001b[0m\n",
      "\u001b[34m[04/01/2022 17:09:15 INFO 140207764698944] #progress_metric: host=algo-1, completed 100 % epochs\u001b[0m\n",
      "\u001b[34m#metrics {\"StartTime\": 1648832945.6469336, \"EndTime\": 1648832955.0056634, \"Dimensions\": {\"Algorithm\": \"RandomCutForest\", \"Host\": \"algo-1\", \"Operation\": \"training\", \"epoch\": 0, \"Meta\": \"training_data_iter\"}, \"Metrics\": {\"Total Records Seen\": {\"sum\": 6346471.0, \"count\": 1, \"min\": 6346471, \"max\": 6346471}, \"Total Batches Seen\": {\"sum\": 6347.0, \"count\": 1, \"min\": 6347, \"max\": 6347}, \"Max Records Seen Between Resets\": {\"sum\": 6346471.0, \"count\": 1, \"min\": 6346471, \"max\": 6346471}, \"Max Batches Seen Between Resets\": {\"sum\": 6347.0, \"count\": 1, \"min\": 6347, \"max\": 6347}, \"Reset Count\": {\"sum\": 1.0, \"count\": 1, \"min\": 1, \"max\": 1}, \"Number of Records Since Last Reset\": {\"sum\": 6346471.0, \"count\": 1, \"min\": 6346471, \"max\": 6346471}, \"Number of Batches Since Last Reset\": {\"sum\": 6347.0, \"count\": 1, \"min\": 6347, \"max\": 6347}}}\u001b[0m\n",
      "\u001b[34m[04/01/2022 17:09:15 INFO 140207764698944] #throughput_metric: host=algo-1, train throughput=678123.4488330438 records/second\u001b[0m\n",
      "\u001b[34m[04/01/2022 17:09:15 INFO 140207764698944] Master node: building Random Cut Forest...\u001b[0m\n",
      "\u001b[34m[04/01/2022 17:09:15 INFO 140207764698944] Gathering samples...\u001b[0m\n",
      "\u001b[34m[04/01/2022 17:09:15 INFO 140207764698944] 25600 samples gathered\u001b[0m\n",
      "\u001b[34m[04/01/2022 17:09:15 INFO 140207764698944] Building Random Cut Forest...\u001b[0m\n",
      "\u001b[34m[04/01/2022 17:09:15 INFO 140207764698944] Random Cut Forest built: \u001b[0m\n",
      "\u001b[34mForestInfo{num_trees: 50, num_samples_in_forest: 25600, num_samples_per_tree: 512, sample_dim: 1, shingle_size: 1, trees_num_nodes: [183, 159, 173, 153, 163, 155, 159, 153, 157, 179, 165, 167, 171, 155, 169, 159, 177, 171, 161, 157, 159, 167, 165, 165, 185, 157, 161, 175, 171, 169, 157, 159, 165, 157, 157, 169, 151, 177, 155, 179, 157, 171, 179, 159, 145, 169, 155, 165, 175, 161, ], trees_depth: [15, 18, 14, 18, 15, 20, 14, 12, 15, 15, 14, 13, 16, 16, 19, 14, 12, 14, 14, 17, 11, 16, 13, 14, 15, 19, 15, 16, 17, 16, 13, 14, 17, 15, 13, 18, 13, 13, 13, 14, 12, 15, 15, 13, 18, 13, 17, 18, 15, 15, ], max_num_nodes: 185, min_num_nodes: 145, avg_num_nodes: 164, max_tree_depth: 20, min_tree_depth: 11, avg_tree_depth: 15, mem_size: 855536}\u001b[0m\n",
      "\u001b[34m#metrics {\"StartTime\": 1648832955.0053642, \"EndTime\": 1648832955.0156028, \"Dimensions\": {\"Algorithm\": \"RandomCutForest\", \"Host\": \"algo-1\", \"Operation\": \"training\"}, \"Metrics\": {\"fit_model.time\": {\"sum\": 6.187677383422852, \"count\": 1, \"min\": 6.187677383422852, \"max\": 6.187677383422852}, \"model.bytes\": {\"sum\": 855536.0, \"count\": 1, \"min\": 855536, \"max\": 855536}, \"finalize.time\": {\"sum\": 9.586095809936523, \"count\": 1, \"min\": 9.586095809936523, \"max\": 9.586095809936523}}}\u001b[0m\n",
      "\u001b[34m[04/01/2022 17:09:15 INFO 140207764698944] Master node: Serializing the RandomCutForest model\u001b[0m\n",
      "\u001b[34m#metrics {\"StartTime\": 1648832955.0157433, \"EndTime\": 1648832955.0281627, \"Dimensions\": {\"Algorithm\": \"RandomCutForest\", \"Host\": \"algo-1\", \"Operation\": \"training\"}, \"Metrics\": {\"serialize_model.time\": {\"sum\": 12.364387512207031, \"count\": 1, \"min\": 12.364387512207031, \"max\": 12.364387512207031}}}\u001b[0m\n",
      "\u001b[34m[04/01/2022 17:09:15 INFO 140207764698944] Test data is not provided.\u001b[0m\n",
      "\u001b[34m#metrics {\"StartTime\": 1648832955.0282485, \"EndTime\": 1648832955.028374, \"Dimensions\": {\"Algorithm\": \"RandomCutForest\", \"Host\": \"algo-1\", \"Operation\": \"training\"}, \"Metrics\": {\"setuptime\": {\"sum\": 27.29630470275879, \"count\": 1, \"min\": 27.29630470275879, \"max\": 27.29630470275879}, \"totaltime\": {\"sum\": 11171.409845352173, \"count\": 1, \"min\": 11171.409845352173, \"max\": 11171.409845352173}}}\u001b[0m\n",
      "\u001b[34m[04/01/2022 17:09:15 INFO 140207764698944 integration.py:636] worker closed\u001b[0m\n",
      "\n",
      "2022-04-01 17:09:33 Uploading - Uploading generated training model\n",
      "2022-04-01 17:09:33 Completed - Training job completed\n",
      "Training seconds: 117\n",
      "Billable seconds: 117\n"
     ]
    }
   ],
   "source": [
    "from sagemaker import RandomCutForest\n",
    "\n",
    "session = sagemaker.Session()\n",
    "\n",
    "# specify general training job information\n",
    "rcf = RandomCutForest(\n",
    "    role=execution_role,\n",
    "    instance_count=1,\n",
    "    instance_type=\"ml.m4.xlarge\",\n",
    "    data_location=f\"s3://{bucket}/{prefix}/\",\n",
    "    output_path=f\"s3://{bucket}/{prefix}/output\",\n",
    "    num_samples_per_tree=512,\n",
    "    num_trees=50,\n",
    ")\n",
    "\n",
    "# automatically upload the training data to S3 and run the training job\n",
    "rcf.fit(rcf.record_set(df.DEP_DELAY.to_numpy().reshape(-1, 1)))"
   ]
  },
  {
   "cell_type": "code",
   "execution_count": 15,
   "metadata": {},
   "outputs": [
    {
     "name": "stdout",
     "output_type": "stream",
     "text": [
      "Training job name: randomcutforest-2022-04-01-17-05-49-136\n"
     ]
    }
   ],
   "source": [
    "print(f\"Training job name: {rcf.latest_training_job.job_name}\")\n"
   ]
  },
  {
   "cell_type": "code",
   "execution_count": 16,
   "metadata": {},
   "outputs": [
    {
     "name": "stderr",
     "output_type": "stream",
     "text": [
      "Defaulting to the only supported framework/algorithm version: 1. Ignoring framework/algorithm version: 1.\n"
     ]
    },
    {
     "name": "stdout",
     "output_type": "stream",
     "text": [
      "------!"
     ]
    }
   ],
   "source": [
    "rcf_inference = rcf.deploy(initial_instance_count=1, instance_type=\"ml.m4.xlarge\")\n"
   ]
  },
  {
   "cell_type": "code",
   "execution_count": 17,
   "metadata": {},
   "outputs": [
    {
     "name": "stderr",
     "output_type": "stream",
     "text": [
      "The endpoint attribute has been renamed in sagemaker>=2.\n",
      "See: https://sagemaker.readthedocs.io/en/stable/v2.html for details.\n"
     ]
    },
    {
     "name": "stdout",
     "output_type": "stream",
     "text": [
      "Endpoint name: randomcutforest-2022-04-01-17-10-02-548\n"
     ]
    }
   ],
   "source": [
    "print(f\"Endpoint name: {rcf_inference.endpoint}\")\n"
   ]
  },
  {
   "cell_type": "markdown",
   "metadata": {},
   "source": [
    "# Prediction"
   ]
  },
  {
   "cell_type": "code",
   "execution_count": null,
   "metadata": {},
   "outputs": [],
   "source": [
    "import boto3, sys\n",
    "import numpy as np \n",
    "import json\n",
    "import pandas as pd\n",
    "\n",
    "\n",
    "downloaded_data_bucket = f\"tpmlengineer\"\n",
    "downloaded_data_prefix = \"test\"\n",
    "\n",
    "data_filename = \"delays_test.csv\"\n",
    "s3 = boto3.client(\"s3\")\n",
    "s3.download_file(downloaded_data_bucket, f\"{downloaded_data_prefix}/{data_filename}\", data_filename)\n",
    "df_test = pd.read_csv(data_filename, delimiter=\",\")"
   ]
  },
  {
   "cell_type": "code",
   "execution_count": 267,
   "metadata": {},
   "outputs": [],
   "source": [
    "import boto3, sys\n",
    "\n",
    "\n",
    "sm_rt = boto3.Session().client('runtime.sagemaker') "
   ]
  },
  {
   "cell_type": "code",
   "execution_count": 175,
   "metadata": {},
   "outputs": [],
   "source": [
    "response = sm_rt.invoke_endpoint(EndpointName=endpoint,\n",
    "                                   ContentType='text/csv',\n",
    "                                   Body=df_test.DEP_DELAY.to_string(index=False))\n"
   ]
  },
  {
   "cell_type": "code",
   "execution_count": 176,
   "metadata": {},
   "outputs": [],
   "source": [
    "result = json.loads(response['Body'].read().decode())"
   ]
  },
  {
   "cell_type": "code",
   "execution_count": 177,
   "metadata": {},
   "outputs": [],
   "source": [
    "df_test['score'] = [x.get('score') for x in result.get('scores')]"
   ]
  },
  {
   "cell_type": "code",
   "execution_count": 189,
   "metadata": {},
   "outputs": [],
   "source": [
    "score_mean = df_test.score.mean()\n",
    "score_std = df_test.score.std()\n",
    "\n",
    "score_cutoff = score_mean + 3*score_std\n",
    "anomalies = df_test[df_test['score'] > score_cutoff]\n"
   ]
  },
  {
   "cell_type": "code",
   "execution_count": 191,
   "metadata": {},
   "outputs": [
    {
     "data": {
      "text/plain": [
       "4.658141312777081"
      ]
     },
     "execution_count": 191,
     "metadata": {},
     "output_type": "execute_result"
    }
   ],
   "source": [
    "score_cutoff"
   ]
  },
  {
   "cell_type": "code",
   "execution_count": 192,
   "metadata": {},
   "outputs": [
    {
     "data": {
      "text/plain": [
       "(2764, 4)"
      ]
     },
     "execution_count": 192,
     "metadata": {},
     "output_type": "execute_result"
    }
   ],
   "source": [
    "anomalies.shape"
   ]
  },
  {
   "cell_type": "code",
   "execution_count": 197,
   "metadata": {},
   "outputs": [],
   "source": [
    "df_test['anomalies'] = np.where(df_test['score'] > score_cutoff, 1, 0)"
   ]
  },
  {
   "cell_type": "code",
   "execution_count": 198,
   "metadata": {},
   "outputs": [
    {
     "data": {
      "text/html": [
       "<div>\n",
       "<style scoped>\n",
       "    .dataframe tbody tr th:only-of-type {\n",
       "        vertical-align: middle;\n",
       "    }\n",
       "\n",
       "    .dataframe tbody tr th {\n",
       "        vertical-align: top;\n",
       "    }\n",
       "\n",
       "    .dataframe thead th {\n",
       "        text-align: right;\n",
       "    }\n",
       "</style>\n",
       "<table border=\"1\" class=\"dataframe\">\n",
       "  <thead>\n",
       "    <tr style=\"text-align: right;\">\n",
       "      <th></th>\n",
       "      <th>ORIGIN</th>\n",
       "      <th>FL_DATE</th>\n",
       "      <th>DEP_DELAY</th>\n",
       "      <th>score</th>\n",
       "      <th>anomalies</th>\n",
       "    </tr>\n",
       "  </thead>\n",
       "  <tbody>\n",
       "    <tr>\n",
       "      <th>0</th>\n",
       "      <td>ABE</td>\n",
       "      <td>2010-01-01</td>\n",
       "      <td>22.0</td>\n",
       "      <td>0.874883</td>\n",
       "      <td>0</td>\n",
       "    </tr>\n",
       "    <tr>\n",
       "      <th>1</th>\n",
       "      <td>ABE</td>\n",
       "      <td>2010-01-02</td>\n",
       "      <td>20.0</td>\n",
       "      <td>0.845079</td>\n",
       "      <td>0</td>\n",
       "    </tr>\n",
       "    <tr>\n",
       "      <th>2</th>\n",
       "      <td>ABE</td>\n",
       "      <td>2010-01-03</td>\n",
       "      <td>53.0</td>\n",
       "      <td>1.042316</td>\n",
       "      <td>0</td>\n",
       "    </tr>\n",
       "    <tr>\n",
       "      <th>3</th>\n",
       "      <td>ABE</td>\n",
       "      <td>2010-01-04</td>\n",
       "      <td>109.0</td>\n",
       "      <td>1.369159</td>\n",
       "      <td>0</td>\n",
       "    </tr>\n",
       "    <tr>\n",
       "      <th>4</th>\n",
       "      <td>ABE</td>\n",
       "      <td>2010-01-05</td>\n",
       "      <td>49.0</td>\n",
       "      <td>0.972269</td>\n",
       "      <td>0</td>\n",
       "    </tr>\n",
       "    <tr>\n",
       "      <th>...</th>\n",
       "      <td>...</td>\n",
       "      <td>...</td>\n",
       "      <td>...</td>\n",
       "      <td>...</td>\n",
       "      <td>...</td>\n",
       "    </tr>\n",
       "    <tr>\n",
       "      <th>103986</th>\n",
       "      <td>YUM</td>\n",
       "      <td>2010-12-27</td>\n",
       "      <td>89.0</td>\n",
       "      <td>1.210318</td>\n",
       "      <td>0</td>\n",
       "    </tr>\n",
       "    <tr>\n",
       "      <th>103987</th>\n",
       "      <td>YUM</td>\n",
       "      <td>2010-12-28</td>\n",
       "      <td>93.0</td>\n",
       "      <td>1.244144</td>\n",
       "      <td>0</td>\n",
       "    </tr>\n",
       "    <tr>\n",
       "      <th>103988</th>\n",
       "      <td>YUM</td>\n",
       "      <td>2010-12-29</td>\n",
       "      <td>24.0</td>\n",
       "      <td>0.846275</td>\n",
       "      <td>0</td>\n",
       "    </tr>\n",
       "    <tr>\n",
       "      <th>103989</th>\n",
       "      <td>YUM</td>\n",
       "      <td>2010-12-30</td>\n",
       "      <td>42.0</td>\n",
       "      <td>0.954496</td>\n",
       "      <td>0</td>\n",
       "    </tr>\n",
       "    <tr>\n",
       "      <th>103990</th>\n",
       "      <td>YUM</td>\n",
       "      <td>2010-12-31</td>\n",
       "      <td>47.0</td>\n",
       "      <td>0.944612</td>\n",
       "      <td>0</td>\n",
       "    </tr>\n",
       "  </tbody>\n",
       "</table>\n",
       "<p>103991 rows × 5 columns</p>\n",
       "</div>"
      ],
      "text/plain": [
       "       ORIGIN     FL_DATE  DEP_DELAY     score  anomalies\n",
       "0         ABE  2010-01-01       22.0  0.874883          0\n",
       "1         ABE  2010-01-02       20.0  0.845079          0\n",
       "2         ABE  2010-01-03       53.0  1.042316          0\n",
       "3         ABE  2010-01-04      109.0  1.369159          0\n",
       "4         ABE  2010-01-05       49.0  0.972269          0\n",
       "...       ...         ...        ...       ...        ...\n",
       "103986    YUM  2010-12-27       89.0  1.210318          0\n",
       "103987    YUM  2010-12-28       93.0  1.244144          0\n",
       "103988    YUM  2010-12-29       24.0  0.846275          0\n",
       "103989    YUM  2010-12-30       42.0  0.954496          0\n",
       "103990    YUM  2010-12-31       47.0  0.944612          0\n",
       "\n",
       "[103991 rows x 5 columns]"
      ]
     },
     "execution_count": 198,
     "metadata": {},
     "output_type": "execute_result"
    }
   ],
   "source": [
    "df_test"
   ]
  },
  {
   "cell_type": "code",
   "execution_count": 200,
   "metadata": {},
   "outputs": [
    {
     "data": {
      "text/html": [
       "<div>\n",
       "<style scoped>\n",
       "    .dataframe tbody tr th:only-of-type {\n",
       "        vertical-align: middle;\n",
       "    }\n",
       "\n",
       "    .dataframe tbody tr th {\n",
       "        vertical-align: top;\n",
       "    }\n",
       "\n",
       "    .dataframe thead th {\n",
       "        text-align: right;\n",
       "    }\n",
       "</style>\n",
       "<table border=\"1\" class=\"dataframe\">\n",
       "  <thead>\n",
       "    <tr style=\"text-align: right;\">\n",
       "      <th></th>\n",
       "      <th>ORIGIN</th>\n",
       "      <th>FL_DATE</th>\n",
       "      <th>DEP_DELAY</th>\n",
       "      <th>score</th>\n",
       "      <th>anomalies</th>\n",
       "    </tr>\n",
       "  </thead>\n",
       "  <tbody>\n",
       "    <tr>\n",
       "      <th>0</th>\n",
       "      <td>ABE</td>\n",
       "      <td>2010-01-01</td>\n",
       "      <td>22.0</td>\n",
       "      <td>0.874883</td>\n",
       "      <td>0</td>\n",
       "    </tr>\n",
       "    <tr>\n",
       "      <th>1</th>\n",
       "      <td>ABE</td>\n",
       "      <td>2010-01-02</td>\n",
       "      <td>20.0</td>\n",
       "      <td>0.845079</td>\n",
       "      <td>0</td>\n",
       "    </tr>\n",
       "    <tr>\n",
       "      <th>2</th>\n",
       "      <td>ABE</td>\n",
       "      <td>2010-01-03</td>\n",
       "      <td>53.0</td>\n",
       "      <td>1.042316</td>\n",
       "      <td>0</td>\n",
       "    </tr>\n",
       "    <tr>\n",
       "      <th>3</th>\n",
       "      <td>ABE</td>\n",
       "      <td>2010-01-04</td>\n",
       "      <td>109.0</td>\n",
       "      <td>1.369159</td>\n",
       "      <td>0</td>\n",
       "    </tr>\n",
       "    <tr>\n",
       "      <th>4</th>\n",
       "      <td>ABE</td>\n",
       "      <td>2010-01-05</td>\n",
       "      <td>49.0</td>\n",
       "      <td>0.972269</td>\n",
       "      <td>0</td>\n",
       "    </tr>\n",
       "    <tr>\n",
       "      <th>...</th>\n",
       "      <td>...</td>\n",
       "      <td>...</td>\n",
       "      <td>...</td>\n",
       "      <td>...</td>\n",
       "      <td>...</td>\n",
       "    </tr>\n",
       "    <tr>\n",
       "      <th>360</th>\n",
       "      <td>ABE</td>\n",
       "      <td>2010-12-27</td>\n",
       "      <td>198.0</td>\n",
       "      <td>2.297799</td>\n",
       "      <td>0</td>\n",
       "    </tr>\n",
       "    <tr>\n",
       "      <th>361</th>\n",
       "      <td>ABE</td>\n",
       "      <td>2010-12-28</td>\n",
       "      <td>53.0</td>\n",
       "      <td>1.042316</td>\n",
       "      <td>0</td>\n",
       "    </tr>\n",
       "    <tr>\n",
       "      <th>362</th>\n",
       "      <td>ABE</td>\n",
       "      <td>2010-12-29</td>\n",
       "      <td>121.0</td>\n",
       "      <td>1.495570</td>\n",
       "      <td>0</td>\n",
       "    </tr>\n",
       "    <tr>\n",
       "      <th>363</th>\n",
       "      <td>ABE</td>\n",
       "      <td>2010-12-30</td>\n",
       "      <td>228.0</td>\n",
       "      <td>2.773681</td>\n",
       "      <td>0</td>\n",
       "    </tr>\n",
       "    <tr>\n",
       "      <th>364</th>\n",
       "      <td>ABE</td>\n",
       "      <td>2010-12-31</td>\n",
       "      <td>65.0</td>\n",
       "      <td>1.081277</td>\n",
       "      <td>0</td>\n",
       "    </tr>\n",
       "  </tbody>\n",
       "</table>\n",
       "<p>365 rows × 5 columns</p>\n",
       "</div>"
      ],
      "text/plain": [
       "    ORIGIN     FL_DATE  DEP_DELAY     score  anomalies\n",
       "0      ABE  2010-01-01       22.0  0.874883          0\n",
       "1      ABE  2010-01-02       20.0  0.845079          0\n",
       "2      ABE  2010-01-03       53.0  1.042316          0\n",
       "3      ABE  2010-01-04      109.0  1.369159          0\n",
       "4      ABE  2010-01-05       49.0  0.972269          0\n",
       "..     ...         ...        ...       ...        ...\n",
       "360    ABE  2010-12-27      198.0  2.297799          0\n",
       "361    ABE  2010-12-28       53.0  1.042316          0\n",
       "362    ABE  2010-12-29      121.0  1.495570          0\n",
       "363    ABE  2010-12-30      228.0  2.773681          0\n",
       "364    ABE  2010-12-31       65.0  1.081277          0\n",
       "\n",
       "[365 rows x 5 columns]"
      ]
     },
     "execution_count": 200,
     "metadata": {},
     "output_type": "execute_result"
    }
   ],
   "source": [
    "df_graph"
   ]
  },
  {
   "cell_type": "markdown",
   "metadata": {},
   "source": [
    "# Functions"
   ]
  },
  {
   "cell_type": "code",
   "execution_count": 15,
   "metadata": {},
   "outputs": [],
   "source": [
    "import boto3, sys\n",
    "import numpy as np \n",
    "import json\n",
    "import pandas as pd\n"
   ]
  },
  {
   "cell_type": "code",
   "execution_count": 16,
   "metadata": {},
   "outputs": [],
   "source": [
    "def get_max_file_with_last_year():\n",
    "    s3 = boto3.client(\"s3\")\n",
    "    objects=s3.list_objects(Bucket='tpmlengineer')\n",
    "    files = list()\n",
    "    for obj in objects['Contents']:\n",
    "        files.append(obj['Key'])\n",
    "    files_tp = [x for x in files if x.startswith('tp')]\n",
    "    years = [int(x.split('tp/')[1].split('.csv')[0]) for x in files_tp]\n",
    "    max_year = np.array(years).max()\n",
    "    file_max_year = str(max_year)\n",
    "    \n",
    "    return file_max_year"
   ]
  },
  {
   "cell_type": "code",
   "execution_count": 17,
   "metadata": {},
   "outputs": [],
   "source": [
    "def download_file(data_filename):\n",
    "    downloaded_data_bucket = f\"tpmlengineer\"\n",
    "    downloaded_data_prefix = \"tp\"\n",
    "    col_list = ['ORIGIN', 'FL_DATE', 'DEP_DELAY']\n",
    "    s3 = boto3.client(\"s3\")\n",
    "    s3.download_file(downloaded_data_bucket, f\"{downloaded_data_prefix}/{data_filename}\", data_filename)\n",
    "    df = pd.read_csv(data_filename, delimiter=\",\", usecols=col_list)\n",
    "    return df"
   ]
  },
  {
   "cell_type": "code",
   "execution_count": 18,
   "metadata": {},
   "outputs": [],
   "source": [
    "def transform_file(df):\n",
    "    df_transformed = df.groupby(['ORIGIN', 'FL_DATE']).aggregate({'DEP_DELAY': ['count', 'mean']}).reset_index()\n",
    "    df_transformed.columns = ['origin', 'fl_date','flights_count', 'delay_mean'] \n",
    "    return df_transformed\n",
    "    "
   ]
  },
  {
   "cell_type": "code",
   "execution_count": 19,
   "metadata": {},
   "outputs": [],
   "source": [
    "def predict_anomalies(df):\n",
    "    endpoint = \"randomcutforest-2022-04-01-16-34-53-759\"\n",
    "    sm_rt = boto3.Session().client('runtime.sagemaker') \n",
    "    \n",
    "    response = sm_rt.invoke_endpoint(EndpointName=endpoint,\n",
    "                                   ContentType='text/csv',\n",
    "                                   Body=df.delay_mean.to_string(index=False))\n",
    "    \n",
    "    result = json.loads(response['Body'].read().decode())\n",
    "    \n",
    "    df['score'] = [x.get('score') for x in result.get('scores')]\n",
    "    score_mean = df.score.mean()\n",
    "    score_std = df.score.std()\n",
    "\n",
    "    score_cutoff = score_mean + 3*score_std\n",
    "    df['anomalies'] = np.where(df['score'] > score_cutoff, 1, 0)\n",
    "    return df\n",
    "    \n",
    "    "
   ]
  },
  {
   "cell_type": "code",
   "execution_count": 20,
   "metadata": {},
   "outputs": [],
   "source": [
    "def graph_airport(airport, df_anomalies, year):\n",
    "    import matplotlib.pyplot as plt\n",
    "    df_graph = df_anomalies.loc[df_anomalies.origin==airport,['fl_date', 'flights_count', 'anomalies']]\n",
    "    df_graph.set_index('fl_date',inplace=True)\n",
    "    \n",
    "    outlier_dates = df_graph[df_graph['anomalies'] == 1].index\n",
    "    \n",
    "    y_values = [df_graph.loc[i]['flights_count'] for i in outlier_dates]\n",
    "    \n",
    "    fig, ax1 = plt.subplots(figsize=(30,14))\n",
    "\n",
    "    ax1.plot(pd.to_datetime(df_graph.index), df_graph.flights_count, label='Flights')\n",
    "    ax1.scatter(pd.to_datetime(outlier_dates),y_values, c='red', label='Anomalies in Delay')\n",
    "    ax1.set_ylabel('Mean Delay')\n",
    "    ax1.tick_params('y', colors='C0')\n",
    "\n",
    "    ax1.legend()\n",
    "    fig.suptitle( airport + ' airport delays')\n",
    "    image_name = airport+\".png\"         \n",
    "    \n",
    "    plt.savefig(image_name)\n",
    "    \n",
    "    # upload image to aws s3\n",
    "    # warning, the ACL here is set to public-read\n",
    "    s3 = boto3.client(\"s3\")\n",
    "    bucket='tpmlengineer'\n",
    "    img_data = open(image_name, \"rb\")\n",
    "    s3.put_object(Bucket=bucket, Key= 'output/' + year + '/' + image_name, Body=img_data, \n",
    "                                 ContentType=\"image/png\")\n",
    "    plt.close(fig)\n"
   ]
  },
  {
   "cell_type": "code",
   "execution_count": 21,
   "metadata": {},
   "outputs": [],
   "source": [
    "def main(year='default'):\n",
    "    if year == 'default':\n",
    "        year = get_last_year()\n",
    "    \n",
    "    data_filename = year + '.csv'\n",
    "    df = download_file(data_filename)\n",
    "    df_transformed = transform_file(df)\n",
    "    df_anomalies = predict_anomalies(df_transformed)\n",
    "    for i in df_anomalies.origin.unique():\n",
    "        graph_airport(i, df_anomalies, year)"
   ]
  },
  {
   "cell_type": "code",
   "execution_count": null,
   "metadata": {},
   "outputs": [],
   "source": [
    "main('2017')"
   ]
  }
 ],
 "metadata": {
  "instance_type": "ml.t3.medium",
  "kernelspec": {
   "display_name": "Python 3 (Data Science)",
   "language": "python",
   "name": "python3__SAGEMAKER_INTERNAL__arn:aws:sagemaker:us-east-2:429704687514:image/datascience-1.0"
  },
  "language_info": {
   "codemirror_mode": {
    "name": "ipython",
    "version": 3
   },
   "file_extension": ".py",
   "mimetype": "text/x-python",
   "name": "python",
   "nbconvert_exporter": "python",
   "pygments_lexer": "ipython3",
   "version": "3.7.10"
  }
 },
 "nbformat": 4,
 "nbformat_minor": 4
}
